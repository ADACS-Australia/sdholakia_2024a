{
 "cells": [
  {
   "cell_type": "code",
   "execution_count": 1,
   "id": "0d36caad-f7a5-4c43-bb87-3e77e5c4c75b",
   "metadata": {
    "tags": []
   },
   "outputs": [],
   "source": [
    "from jaxodi.doppler_surface import DopplerWav, DopplerSurface, DopplerSpec"
   ]
  },
  {
   "cell_type": "code",
   "execution_count": 29,
   "id": "37953d58-5830-4f3d-a5e3-e6fbc42dcdba",
   "metadata": {
    "tags": []
   },
   "outputs": [],
   "source": [
    "from jaxodi.utils import enforce_bounds"
   ]
  },
  {
   "cell_type": "code",
   "execution_count": 2,
   "id": "e39e92f5-2d5f-4c7e-85c8-c4e55538e3e6",
   "metadata": {
    "tags": []
   },
   "outputs": [],
   "source": [
    "from jaxoplanet.experimental.starry.ylm import Ylm"
   ]
  },
  {
   "cell_type": "code",
   "execution_count": 3,
   "id": "326659c0-6419-4002-aa0e-d3453d86cf63",
   "metadata": {
    "tags": []
   },
   "outputs": [],
   "source": [
    "import numpy as np"
   ]
  },
  {
   "cell_type": "code",
   "execution_count": 4,
   "id": "8554ab97-f024-4c55-89c1-5062dd0df363",
   "metadata": {
    "tags": []
   },
   "outputs": [],
   "source": [
    "y = Ylm.from_dense(np.hstack([1.0, np.random.rand(35) * 0.3]))"
   ]
  },
  {
   "cell_type": "code",
   "execution_count": 5,
   "id": "ad12fa12-cb6e-41b9-8d76-bbea3a46e1bb",
   "metadata": {
    "tags": []
   },
   "outputs": [
    {
     "data": {
      "text/plain": [
       "5"
      ]
     },
     "execution_count": 5,
     "metadata": {},
     "output_type": "execute_result"
    }
   ],
   "source": [
    "y.ell_max"
   ]
  },
  {
   "cell_type": "code",
   "execution_count": 6,
   "id": "96903879-c0bb-4578-af0a-3d6f19856283",
   "metadata": {
    "tags": []
   },
   "outputs": [],
   "source": [
    "wav = DopplerWav(vsini_max=60000.)"
   ]
  },
  {
   "cell_type": "code",
   "execution_count": 18,
   "id": "4206ed57-6a93-4cc6-a89f-6fe3be06f5e1",
   "metadata": {
    "tags": []
   },
   "outputs": [],
   "source": [
    "wav1 = DopplerWav(vsini_max=300.)"
   ]
  },
  {
   "cell_type": "code",
   "execution_count": 19,
   "id": "6852b1ce-94b4-433a-b7af-b0780971b6e5",
   "metadata": {
    "tags": []
   },
   "outputs": [
    {
     "data": {
      "text/plain": [
       "DopplerWav(\n",
       "  wav=f32[200],\n",
       "  vsini_max=60000.0,\n",
       "  nw_int=201,\n",
       "  nw0_int=305,\n",
       "  nk=105,\n",
       "  xamp=f32[105]\n",
       ")"
      ]
     },
     "execution_count": 19,
     "metadata": {},
     "output_type": "execute_result"
    }
   ],
   "source": [
    "wav"
   ]
  },
  {
   "cell_type": "code",
   "execution_count": 20,
   "id": "c8cde8f8-d824-4663-a362-19ac05d6ea60",
   "metadata": {
    "tags": []
   },
   "outputs": [
    {
     "data": {
      "text/plain": [
       "DopplerWav(\n",
       "  wav=f32[200],\n",
       "  vsini_max=300.0,\n",
       "  nw_int=201,\n",
       "  nw0_int=203,\n",
       "  nk=3,\n",
       "  xamp=f32[3]\n",
       ")"
      ]
     },
     "execution_count": 20,
     "metadata": {},
     "output_type": "execute_result"
    }
   ],
   "source": [
    "wav1"
   ]
  },
  {
   "cell_type": "code",
   "execution_count": 8,
   "id": "3e555ac8-0660-456e-a40a-b2ca0851412c",
   "metadata": {
    "tags": []
   },
   "outputs": [
    {
     "data": {
      "text/plain": [
       "105"
      ]
     },
     "execution_count": 8,
     "metadata": {},
     "output_type": "execute_result"
    }
   ],
   "source": [
    "int(wav.nk)"
   ]
  },
  {
   "cell_type": "code",
   "execution_count": 9,
   "id": "602a5dc4-72fa-424f-bb5f-9e6e3cf9de9f",
   "metadata": {
    "tags": []
   },
   "outputs": [],
   "source": [
    "spec0 = 1.0 - np.exp(-0.5 * (wav.wav0 - 643.0) ** 2 / 0.0085 ** 2)"
   ]
  },
  {
   "cell_type": "code",
   "execution_count": 10,
   "id": "656f9abe-f52f-4023-a60f-094a1674c253",
   "metadata": {
    "tags": []
   },
   "outputs": [],
   "source": [
    "spec = DopplerSpec(wav, spec0)"
   ]
  },
  {
   "cell_type": "code",
   "execution_count": 21,
   "id": "9c36b298-23d7-40da-a459-53150fe58239",
   "metadata": {
    "tags": []
   },
   "outputs": [],
   "source": [
    "spec01 = 1.0 - np.exp(-0.5 * (wav1.wav0 - 643.0) ** 2 / 0.0085 ** 2)"
   ]
  },
  {
   "cell_type": "code",
   "execution_count": 11,
   "id": "e8959d6d-0260-4827-a203-8a4d344033cb",
   "metadata": {
    "tags": []
   },
   "outputs": [
    {
     "data": {
      "text/plain": [
       "DopplerSpec(nc=1, spec0_int=f32[1,305])"
      ]
     },
     "execution_count": 11,
     "metadata": {},
     "output_type": "execute_result"
    }
   ],
   "source": [
    "spec"
   ]
  },
  {
   "cell_type": "code",
   "execution_count": 22,
   "id": "5b205883-ff3a-440f-89ff-8da463c41363",
   "metadata": {
    "tags": []
   },
   "outputs": [],
   "source": [
    "spec1 = DopplerSpec(wav1, spec01)"
   ]
  },
  {
   "cell_type": "code",
   "execution_count": 12,
   "id": "0a975c95-7ec6-4df3-8def-38a59d22469c",
   "metadata": {
    "tags": []
   },
   "outputs": [
    {
     "data": {
      "text/plain": [
       "(304,)"
      ]
     },
     "execution_count": 12,
     "metadata": {},
     "output_type": "execute_result"
    }
   ],
   "source": [
    "spec0.shape"
   ]
  },
  {
   "cell_type": "code",
   "execution_count": 23,
   "id": "3a8e6336-d718-4089-a7b5-0227cfc31fca",
   "metadata": {
    "tags": []
   },
   "outputs": [
    {
     "data": {
      "text/plain": [
       "DopplerSpec(nc=1, spec0_int=f32[1,203])"
      ]
     },
     "execution_count": 23,
     "metadata": {},
     "output_type": "execute_result"
    }
   ],
   "source": [
    "spec1"
   ]
  },
  {
   "cell_type": "code",
   "execution_count": 24,
   "id": "b86b9594-fbd3-4adf-9d32-83888c1cae99",
   "metadata": {
    "tags": []
   },
   "outputs": [],
   "source": [
    "theta = np.append([-np.pi], np.linspace(-np.pi/2, np.pi/2, 15))"
   ]
  },
  {
   "cell_type": "code",
   "execution_count": 25,
   "id": "913b7151-6cf1-46c1-9293-4422c67ea10b",
   "metadata": {
    "tags": []
   },
   "outputs": [],
   "source": [
    "dm = DopplerSurface(theta, veq=60000.)"
   ]
  },
  {
   "cell_type": "code",
   "execution_count": 26,
   "id": "a44dcb1a-aca0-4d56-902b-ed2de93802ce",
   "metadata": {
    "tags": []
   },
   "outputs": [
    {
     "data": {
      "text/plain": [
       "DopplerSurface(\n",
       "  theta=f64[16](numpy),\n",
       "  nt=16,\n",
       "  inc=1.5707963267948966,\n",
       "  obl=0,\n",
       "  veq=60000.0\n",
       ")"
      ]
     },
     "execution_count": 26,
     "metadata": {},
     "output_type": "execute_result"
    }
   ],
   "source": [
    "dm"
   ]
  },
  {
   "cell_type": "code",
   "execution_count": 16,
   "id": "7f0a2e89-a8d0-4051-92d0-33510b4eae27",
   "metadata": {
    "tags": []
   },
   "outputs": [],
   "source": [
    "flux = dm(y, wav, spec)"
   ]
  },
  {
   "cell_type": "code",
   "execution_count": 17,
   "id": "0ebdd82f-d8ad-4b11-9822-696a63bc1ddc",
   "metadata": {},
   "outputs": [
    {
     "data": {
      "text/plain": [
       "Array([[0.65624887, 0.65588254, 0.6557575 , ..., 0.6581231 , 0.65780276,\n",
       "        0.6582481 ],\n",
       "       [1.17163   , 1.1697847 , 1.1702155 , ..., 1.171325  , 1.1715806 ,\n",
       "        1.1715567 ],\n",
       "       [1.3101035 , 1.30973   , 1.3102927 , ..., 1.3116847 , 1.311931  ,\n",
       "        1.3126357 ],\n",
       "       ...,\n",
       "       [1.0228555 , 1.0198913 , 1.0212998 , ..., 1.0222473 , 1.0218339 ,\n",
       "        1.021791  ],\n",
       "       [0.8321759 , 0.8319379 , 0.83194643, ..., 0.8331492 , 0.83247817,\n",
       "        0.83285207],\n",
       "       [0.3302605 , 0.32930776, 0.33020023, ..., 0.3297367 , 0.32946467,\n",
       "        0.32950315]], dtype=float32)"
      ]
     },
     "execution_count": 17,
     "metadata": {},
     "output_type": "execute_result"
    }
   ],
   "source": [
    "flux"
   ]
  },
  {
   "cell_type": "code",
   "execution_count": 27,
   "id": "8f9a16e4-259e-4800-8cb1-932229e2075e",
   "metadata": {},
   "outputs": [],
   "source": [
    "flux1 = dm(y, wav1, spec1)"
   ]
  },
  {
   "cell_type": "code",
   "execution_count": null,
   "id": "f0a0d2bb-02bb-4750-82ac-fd4a656854c7",
   "metadata": {},
   "outputs": [],
   "source": []
  },
  {
   "cell_type": "code",
   "execution_count": 28,
   "id": "8a2250ef-4cab-43aa-8189-b2ec7a517dc4",
   "metadata": {
    "tags": []
   },
   "outputs": [
    {
     "data": {
      "text/plain": [
       "Array([[1.4385163 , 1.4385163 , 1.4385163 , ..., 1.4273171 , 1.4289538 ,\n",
       "        1.4448578 ],\n",
       "       [1.3898828 , 1.3898828 , 1.3898828 , ..., 1.3874104 , 1.3818272 ,\n",
       "        1.3899183 ],\n",
       "       [1.6453573 , 1.6453573 , 1.6453573 , ..., 1.6504133 , 1.6267898 ,\n",
       "        1.6445742 ],\n",
       "       ...,\n",
       "       [1.2519003 , 1.2519003 , 1.2519003 , ..., 1.2625813 , 1.2349449 ,\n",
       "        1.2481856 ],\n",
       "       [0.94563127, 0.94563127, 0.94563127, ..., 0.9412162 , 0.94079435,\n",
       "        0.94714236],\n",
       "       [0.9116096 , 0.9116096 , 0.9116096 , ..., 0.915895  , 0.90138644,\n",
       "        0.9101648 ]], dtype=float32)"
      ]
     },
     "execution_count": 28,
     "metadata": {},
     "output_type": "execute_result"
    }
   ],
   "source": [
    "flux1"
   ]
  },
  {
   "cell_type": "code",
   "execution_count": null,
   "id": "6242aa9f-a009-45b4-89ab-3700b373098b",
   "metadata": {},
   "outputs": [],
   "source": [
    "v, err = enforce_bounds("
   ]
  }
 ],
 "metadata": {
  "kernelspec": {
   "display_name": "Python [conda env:sdholakia_2024a]",
   "language": "python",
   "name": "conda-env-sdholakia_2024a-py"
  },
  "language_info": {
   "codemirror_mode": {
    "name": "ipython",
    "version": 3
   },
   "file_extension": ".py",
   "mimetype": "text/x-python",
   "name": "python",
   "nbconvert_exporter": "python",
   "pygments_lexer": "ipython3",
   "version": "3.10.14"
  }
 },
 "nbformat": 4,
 "nbformat_minor": 5
}
