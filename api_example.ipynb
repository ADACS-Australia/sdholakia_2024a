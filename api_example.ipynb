{
 "cells": [
  {
   "cell_type": "code",
   "execution_count": 1,
   "id": "0d36caad-f7a5-4c43-bb87-3e77e5c4c75b",
   "metadata": {
    "tags": []
   },
   "outputs": [],
   "source": [
    "from jaxodi.doppler_surface import DopplerWav, DopplerSurface"
   ]
  },
  {
   "cell_type": "code",
   "execution_count": 2,
   "id": "e39e92f5-2d5f-4c7e-85c8-c4e55538e3e6",
   "metadata": {
    "tags": []
   },
   "outputs": [],
   "source": [
    "from jaxoplanet.experimental.starry.ylm import Ylm"
   ]
  },
  {
   "cell_type": "code",
   "execution_count": 3,
   "id": "326659c0-6419-4002-aa0e-d3453d86cf63",
   "metadata": {
    "tags": []
   },
   "outputs": [],
   "source": [
    "import numpy as np"
   ]
  },
  {
   "cell_type": "code",
   "execution_count": 4,
   "id": "8554ab97-f024-4c55-89c1-5062dd0df363",
   "metadata": {
    "tags": []
   },
   "outputs": [],
   "source": [
    "y = Ylm.from_dense(np.hstack([1.0, np.random.rand(35) * 0.3]))"
   ]
  },
  {
   "cell_type": "code",
   "execution_count": 6,
   "id": "fbe05813-8207-4107-b8ef-93c4829cbcb6",
   "metadata": {
    "tags": []
   },
   "outputs": [
    {
     "data": {
      "text/plain": [
       "Ylm(\n",
       "  data={\n",
       "    (0, 0):\n",
       "    1.0,\n",
       "    (1, -1):\n",
       "    0.23505291558187855,\n",
       "    (1, 0):\n",
       "    0.16975382701116942,\n",
       "    (1, 1):\n",
       "    0.0352616000908861,\n",
       "    (2, -2):\n",
       "    0.05452717714613513,\n",
       "    (2, -1):\n",
       "    0.08992025777970514,\n",
       "    (2, 0):\n",
       "    0.16685579061380604,\n",
       "    (2, 1):\n",
       "    0.015836030898152664,\n",
       "    (2, 2):\n",
       "    0.1620923330819826,\n",
       "    (3, -3):\n",
       "    0.13817522941862473,\n",
       "    (3, -2):\n",
       "    0.1232808460354058,\n",
       "    (3, -1):\n",
       "    0.12062883323032463,\n",
       "    (3, 0):\n",
       "    0.2280140752780554,\n",
       "    (3, 1):\n",
       "    0.10453151367709494,\n",
       "    (3, 2):\n",
       "    0.2860131863289307,\n",
       "    (3, 3):\n",
       "    0.005730641480622722,\n",
       "    (4, -4):\n",
       "    0.2834841625511442,\n",
       "    (4, -3):\n",
       "    0.23728559812973607,\n",
       "    (4, -2):\n",
       "    0.18022486179562439,\n",
       "    (4, -1):\n",
       "    0.0354277296829934,\n",
       "    (4, 0):\n",
       "    0.20230058811414225,\n",
       "    (4, 1):\n",
       "    0.18297401592983123,\n",
       "    (4, 2):\n",
       "    0.003855222935747171,\n",
       "    (4, 3):\n",
       "    0.057487387011595115,\n",
       "    (4, 4):\n",
       "    0.0382191909992811,\n",
       "    (5, -5):\n",
       "    0.21182739888349386,\n",
       "    (5, -4):\n",
       "    0.21178453358497276,\n",
       "    (5, -3):\n",
       "    0.24075070494826376,\n",
       "    (5, -2):\n",
       "    0.15652243605312613,\n",
       "    (5, -1):\n",
       "    0.10046760936483433,\n",
       "    (5, 0):\n",
       "    0.1290040215982872,\n",
       "    (5, 1):\n",
       "    0.18973230862929705,\n",
       "    (5, 2):\n",
       "    0.24010094487422026,\n",
       "    (5, 3):\n",
       "    0.03099346063490552,\n",
       "    (5, 4):\n",
       "    0.11417814495716273,\n",
       "    (5, 5):\n",
       "    0.10551079629204127\n",
       "  },\n",
       "  ell_max=5,\n",
       "  diagonal=False\n",
       ")"
      ]
     },
     "execution_count": 6,
     "metadata": {},
     "output_type": "execute_result"
    }
   ],
   "source": [
    "y"
   ]
  },
  {
   "cell_type": "code",
   "execution_count": 7,
   "id": "ad12fa12-cb6e-41b9-8d76-bbea3a46e1bb",
   "metadata": {
    "tags": []
   },
   "outputs": [
    {
     "data": {
      "text/plain": [
       "5"
      ]
     },
     "execution_count": 7,
     "metadata": {},
     "output_type": "execute_result"
    }
   ],
   "source": [
    "y.ell_max"
   ]
  },
  {
   "cell_type": "code",
   "execution_count": 8,
   "id": "96903879-c0bb-4578-af0a-3d6f19856283",
   "metadata": {
    "tags": []
   },
   "outputs": [],
   "source": [
    "wav = DopplerWav(vsini_max=60000.)"
   ]
  },
  {
   "cell_type": "code",
   "execution_count": 9,
   "id": "6852b1ce-94b4-433a-b7af-b0780971b6e5",
   "metadata": {
    "tags": []
   },
   "outputs": [
    {
     "data": {
      "text/plain": [
       "DopplerWav(wav=f64[200](numpy), vsini_max=60000.0)"
      ]
     },
     "execution_count": 9,
     "metadata": {},
     "output_type": "execute_result"
    }
   ],
   "source": [
    "wav"
   ]
  },
  {
   "cell_type": "code",
   "execution_count": 10,
   "id": "602a5dc4-72fa-424f-bb5f-9e6e3cf9de9f",
   "metadata": {
    "tags": []
   },
   "outputs": [],
   "source": [
    "spec0 = 1.0 - np.exp(-0.5 * (wav.wav0 - 643.0) ** 2 / 0.0085 ** 2)"
   ]
  },
  {
   "cell_type": "code",
   "execution_count": 11,
   "id": "0a975c95-7ec6-4df3-8def-38a59d22469c",
   "metadata": {
    "tags": []
   },
   "outputs": [
    {
     "data": {
      "text/plain": [
       "(304,)"
      ]
     },
     "execution_count": 11,
     "metadata": {},
     "output_type": "execute_result"
    }
   ],
   "source": [
    "spec0.shape"
   ]
  },
  {
   "cell_type": "code",
   "execution_count": 12,
   "id": "b86b9594-fbd3-4adf-9d32-83888c1cae99",
   "metadata": {
    "tags": []
   },
   "outputs": [],
   "source": [
    "theta = np.append([-np.pi], np.linspace(-np.pi/2, np.pi/2, 15))"
   ]
  },
  {
   "cell_type": "code",
   "execution_count": 13,
   "id": "913b7151-6cf1-46c1-9293-4422c67ea10b",
   "metadata": {
    "tags": []
   },
   "outputs": [],
   "source": [
    "dm = DopplerSurface(theta)"
   ]
  },
  {
   "cell_type": "code",
   "execution_count": 14,
   "id": "a44dcb1a-aca0-4d56-902b-ed2de93802ce",
   "metadata": {
    "tags": []
   },
   "outputs": [
    {
     "data": {
      "text/plain": [
       "DopplerSurface(theta=f64[16](numpy), nt=16, inc=1.5707963267948966, obl=0)"
      ]
     },
     "execution_count": 14,
     "metadata": {},
     "output_type": "execute_result"
    }
   ],
   "source": [
    "dm"
   ]
  },
  {
   "cell_type": "code",
   "execution_count": 15,
   "id": "7f0a2e89-a8d0-4051-92d0-33510b4eae27",
   "metadata": {
    "tags": []
   },
   "outputs": [],
   "source": [
    "flux = dm(y, wav, spec0)"
   ]
  },
  {
   "cell_type": "code",
   "execution_count": 16,
   "id": "f380aef6-5e93-4710-a236-5fd33f65baa1",
   "metadata": {
    "tags": []
   },
   "outputs": [
    {
     "data": {
      "text/plain": [
       "(16, 201)"
      ]
     },
     "execution_count": 16,
     "metadata": {},
     "output_type": "execute_result"
    }
   ],
   "source": [
    "flux.shape"
   ]
  },
  {
   "cell_type": "code",
   "execution_count": null,
   "id": "0ebdd82f-d8ad-4b11-9822-696a63bc1ddc",
   "metadata": {},
   "outputs": [],
   "source": []
  }
 ],
 "metadata": {
  "kernelspec": {
   "display_name": "Python [conda env:sdholakia_2024a]",
   "language": "python",
   "name": "conda-env-sdholakia_2024a-py"
  },
  "language_info": {
   "codemirror_mode": {
    "name": "ipython",
    "version": 3
   },
   "file_extension": ".py",
   "mimetype": "text/x-python",
   "name": "python",
   "nbconvert_exporter": "python",
   "pygments_lexer": "ipython3",
   "version": "3.10.14"
  }
 },
 "nbformat": 4,
 "nbformat_minor": 5
}
