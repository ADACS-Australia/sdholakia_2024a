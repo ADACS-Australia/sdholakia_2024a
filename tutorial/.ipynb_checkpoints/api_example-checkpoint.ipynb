{
 "cells": [
  {
   "cell_type": "markdown",
   "id": "805eeba9-7c78-4f6f-9600-f337260e6807",
   "metadata": {},
   "source": [
    "# `jaxodi` API examples\n",
    "\n",
    "In this notebook, we will give some examples of using `jaxodi` API functions."
   ]
  },
  {
   "cell_type": "markdown",
   "id": "daacd335-610e-4f63-b643-75d45d809aba",
   "metadata": {},
   "source": [
    "### 1. `light_curve`"
   ]
  },
  {
   "cell_type": "code",
   "execution_count": null,
   "id": "0d36caad-f7a5-4c43-bb87-3e77e5c4c75b",
   "metadata": {
    "tags": []
   },
   "outputs": [],
   "source": [
    "import jax\n",
    "import jax.numpy as jnp\n",
    "import numpy as np\n",
    "\n",
    "from jaxodi.doppler_surface import DopplerWav, DopplerSurface, DopplerSpec\n",
    "from jaxodi.api import light_curve\n",
    "\n",
    "from jaxoplanet.experimental.starry.ylm import Ylm\n",
    "\n",
    "jax.config.update(\"jax_enable_x64\", True)"
   ]
  },
  {
   "cell_type": "markdown",
   "id": "963fe4bb-c106-420b-ae75-0508ad17c498",
   "metadata": {},
   "source": [
    "#### 1. Initiate DopplerWav object\n",
    "\n",
    "`DopplerWav` class contains attributes and methods related to wavlength grids and interpolations among them. It uses the same default values for some attributes (i.e. default wav)."
   ]
  },
  {
   "cell_type": "code",
   "execution_count": null,
   "id": "e6892bb9-f56c-426f-81bb-965b8f7c584d",
   "metadata": {
    "tags": []
   },
   "outputs": [],
   "source": [
    "# user specified parameter\n",
    "vsini_max = 60000.0"
   ]
  },
  {
   "cell_type": "code",
   "execution_count": null,
   "id": "3f2f63e1-ed0a-4036-ae78-cbebd40f093a",
   "metadata": {
    "tags": []
   },
   "outputs": [],
   "source": [
    "wav = DopplerWav(vsini_max=vsini_max)"
   ]
  },
  {
   "cell_type": "code",
   "execution_count": null,
   "id": "4ae1d82c-99da-4eae-80ee-1c14e755128b",
   "metadata": {
    "tags": []
   },
   "outputs": [],
   "source": [
    "# eqx fields\n",
    "wav"
   ]
  },
  {
   "cell_type": "markdown",
   "id": "cb1d805b-8987-486b-a9da-2c8e17c38876",
   "metadata": {},
   "source": [
    "#### 2. Initiate DopplerSpec object\n",
    "\n",
    "`DopplerSpec` class contains spectral data used in the model internally. "
   ]
  },
  {
   "cell_type": "code",
   "execution_count": null,
   "id": "63345096-af84-48b6-9bf6-420211a66633",
   "metadata": {
    "tags": []
   },
   "outputs": [],
   "source": [
    "# user specified data\n",
    "# notice the length of the input spectrum should be the the same as of wav.wav0\n",
    "spec0 = 1.0 - 0.75 * jnp.exp(-0.5 * (wav.wav0 - 643.0) ** 2 / 0.0085 ** 2) "
   ]
  },
  {
   "cell_type": "code",
   "execution_count": null,
   "id": "e565407f-b5b3-4c03-bb09-93d41e721d44",
   "metadata": {
    "tags": []
   },
   "outputs": [],
   "source": [
    "spec = DopplerSpec(wav, spec0)"
   ]
  },
  {
   "cell_type": "code",
   "execution_count": null,
   "id": "179b2101-1a26-4392-9d9d-178905c39efc",
   "metadata": {
    "tags": []
   },
   "outputs": [],
   "source": [
    "spec"
   ]
  },
  {
   "cell_type": "markdown",
   "id": "9a9e4561-6b01-4d48-80aa-8f60d3cb212e",
   "metadata": {},
   "source": [
    "#### 3. Initiate DopplerSurface object\n",
    "\n",
    "`DopplerSurface` class contains data related to the star."
   ]
  },
  {
   "cell_type": "code",
   "execution_count": null,
   "id": "17a03caf-ce75-446b-8283-3894dd691d5c",
   "metadata": {
    "tags": []
   },
   "outputs": [],
   "source": [
    "# user specified data\n",
    "nt = 16\n",
    "theta = np.append([-180], np.linspace(-90, 90, nt - 1))\n",
    "veq = 60000.0"
   ]
  },
  {
   "cell_type": "code",
   "execution_count": null,
   "id": "24fcc3ba-f2bf-4a9d-9f05-a9cb0b8f0f70",
   "metadata": {
    "tags": []
   },
   "outputs": [],
   "source": [
    "surface = DopplerSurface(theta, inc=np.pi/2, obl=0, veq=veq)"
   ]
  },
  {
   "cell_type": "code",
   "execution_count": null,
   "id": "1eb4ffd6-9ea7-4b31-960b-e5dd6d3a295e",
   "metadata": {
    "tags": []
   },
   "outputs": [],
   "source": [
    "surface"
   ]
  },
  {
   "cell_type": "markdown",
   "id": "84a26277-565b-4f66-8783-c6e921fb06df",
   "metadata": {},
   "source": [
    "#### 4. Initiate Ylm object\n",
    "\n",
    "Import `Ylm` from `jaxoplanet`."
   ]
  },
  {
   "cell_type": "code",
   "execution_count": null,
   "id": "3697080d-811b-4288-94d3-3e7f66f706d2",
   "metadata": {
    "tags": []
   },
   "outputs": [],
   "source": [
    "ydeg = 5\n",
    "N = (ydeg + 1) ** 2\n",
    "y_ = np.random.rand(N)\n",
    "y_[0] = 1.0"
   ]
  },
  {
   "cell_type": "code",
   "execution_count": null,
   "id": "8554ab97-f024-4c55-89c1-5062dd0df363",
   "metadata": {
    "tags": []
   },
   "outputs": [],
   "source": [
    "y = Ylm.from_dense(y_)"
   ]
  },
  {
   "cell_type": "code",
   "execution_count": null,
   "id": "ad12fa12-cb6e-41b9-8d76-bbea3a46e1bb",
   "metadata": {
    "tags": []
   },
   "outputs": [],
   "source": [
    "y.ell_max"
   ]
  },
  {
   "cell_type": "markdown",
   "id": "4631e351-82ce-4b1a-806c-770749644b73",
   "metadata": {},
   "source": [
    "#### 5. Calculate light curve"
   ]
  },
  {
   "cell_type": "code",
   "execution_count": null,
   "id": "6b9f8817-a669-4dd7-a34f-3daba342758c",
   "metadata": {
    "tags": []
   },
   "outputs": [],
   "source": [
    "lc = light_curve(y, wav, spec, surface)"
   ]
  },
  {
   "cell_type": "code",
   "execution_count": null,
   "id": "3eb7b6e3-7d1d-4c0c-a172-b6bbfbe6ba78",
   "metadata": {
    "tags": []
   },
   "outputs": [],
   "source": [
    "lc.shape"
   ]
  },
  {
   "cell_type": "markdown",
   "id": "c728bd71-b8cd-40d4-841e-8d730206650f",
   "metadata": {},
   "source": [
    "#### 6. Comparsion with starry method"
   ]
  },
  {
   "cell_type": "code",
   "execution_count": null,
   "id": "ca17b82b-8402-46b0-841d-67ab03a5c5d5",
   "metadata": {
    "tags": []
   },
   "outputs": [],
   "source": [
    "import starry\n",
    "from jaxoplanet.test_utils import assert_allclose"
   ]
  },
  {
   "cell_type": "code",
   "execution_count": null,
   "id": "33f5eaa6-f512-4877-a41e-e1b988ead7b9",
   "metadata": {
    "tags": []
   },
   "outputs": [],
   "source": [
    "# initiate starry doppler map using the same input parameters as jaxodi objects\n",
    "map_ = starry.DopplerMap(ydeg, veq=veq, vsini_max=vsini_max, inc=90, nt=nt, lazy=False)\n",
    "map_[:, :] = y_\n",
    "map_.spectrum = 1.0 - 0.75 * np.exp(-0.5 * (map_.wav0 - 643.0) ** 2 / 0.0085 ** 2) \n",
    "theta = np.append([-180], np.linspace(-90, 90, nt - 1))"
   ]
  },
  {
   "cell_type": "code",
   "execution_count": null,
   "id": "a6ab7e82-2166-4720-9ffc-de5f7bef9910",
   "metadata": {
    "tags": []
   },
   "outputs": [],
   "source": [
    "lc_starry = map_.flux(theta, normalize=False)"
   ]
  },
  {
   "cell_type": "code",
   "execution_count": null,
   "id": "8561ff49-2e4e-4d2b-9db3-74c790e7ac6f",
   "metadata": {
    "tags": []
   },
   "outputs": [],
   "source": [
    "assert_allclose(lc, lc_starry)"
   ]
  }
 ],
 "metadata": {
  "kernelspec": {
   "display_name": "Python [conda env:sdholakia_2024a_scripts]",
   "language": "python",
   "name": "conda-env-sdholakia_2024a_scripts-py"
  },
  "language_info": {
   "codemirror_mode": {
    "name": "ipython",
    "version": 3
   },
   "file_extension": ".py",
   "mimetype": "text/x-python",
   "name": "python",
   "nbconvert_exporter": "python",
   "pygments_lexer": "ipython3",
   "version": "3.10.14"
  }
 },
 "nbformat": 4,
 "nbformat_minor": 5
}
